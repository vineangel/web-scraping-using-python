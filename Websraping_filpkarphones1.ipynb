{
  "nbformat": 4,
  "nbformat_minor": 0,
  "metadata": {
    "colab": {
      "provenance": []
    },
    "kernelspec": {
      "name": "python3",
      "display_name": "Python 3"
    },
    "language_info": {
      "name": "python"
    }
  },
  "cells": [
    {
      "cell_type": "code",
      "execution_count": 13,
      "metadata": {
        "colab": {
          "base_uri": "https://localhost:8080/"
        },
        "id": "IQ844919Yaii",
        "outputId": "d033864e-45d8-4e86-a264-f20476abcacf"
      },
      "outputs": [
        {
          "output_type": "stream",
          "name": "stdout",
          "text": [
            "Phone data has been successfully scraped and saved to flipkart_phones.csv.\n"
          ]
        }
      ],
      "source": [
        "import requests\n",
        "from bs4 import BeautifulSoup\n",
        "import csv\n",
        "\n",
        "def scrape_flipkart_phones():\n",
        "    url = \"https://www.flipkart.com/mobiles/pr?sid=tyy%2C4io\"\n",
        "    headers = {\n",
        "        \"User-Agent\": \"Mozilla/5.0 (Windows NT 10.0; Win64; x64) AppleWebKit/537.36 (KHTML, like Gecko) Chrome/58.0.3029.110 Safari/537.3\"}\n",
        "\n",
        "    response = requests.get(url, headers=headers)\n",
        "\n",
        "    if response.status_code == 200:\n",
        "        soup = BeautifulSoup(response.content, \"html.parser\")\n",
        "        phone_containers = soup.find_all(\"div\", class_=\"_2kHMtA\")\n",
        "\n",
        "        phone_data = []\n",
        "\n",
        "        for container in phone_containers:\n",
        "            name = container.find(\"div\", class_=\"_4rR01T\").text\n",
        "            price = container.find(\"div\", class_=\"_30jeq3\").text.strip().replace('₹', '').replace(',', '')\n",
        "            rating = container.find(\"div\", class_=\"_3LWZlK\").text.strip() if container.find(\"div\", class_=\"_3LWZlK\") else \"N/A\"\n",
        "\n",
        "            phone_data.append({\"Name\": name, \"Price\": price, \"Rating\": rating})\n",
        "\n",
        "        return phone_data\n",
        "    else:\n",
        "        print(\"Failed to retrieve the web page.\")\n",
        "        return []\n",
        "\n",
        "def save_to_csv(data, filename):\n",
        "    with open(filename, mode=\"w\", newline=\"\", encoding=\"utf-8\") as file:\n",
        "        writer = csv.DictWriter(file, fieldnames=data[0].keys())\n",
        "        writer.writeheader()\n",
        "        writer.writerows(data)\n",
        "\n",
        "if __name__ == \"__main__\":\n",
        "    phone_data = scrape_flipkart_phones()\n",
        "\n",
        "    if phone_data:\n",
        "        save_to_csv(phone_data, \"flipkart_phones.csv\")\n",
        "        print(\"Phone data has been successfully scraped and saved to flipkart_phones.csv.\")\n",
        "    else:\n",
        "        print(\"No phone data was scraped.\")\n"
      ]
    },
    {
      "cell_type": "code",
      "source": [
        "from google.colab import files\n",
        "\n",
        "# Specify the path to the generated CSV file within the current directory\n",
        "csv_file_path = '/content/flipkart_phones.csv'  # Change this to the actual path\n",
        "\n",
        "# Use the files.download() function to download the file\n",
        "files.download(csv_file_path)\n",
        "\n"
      ],
      "metadata": {
        "colab": {
          "base_uri": "https://localhost:8080/",
          "height": 17
        },
        "id": "OX4OmARLiV3S",
        "outputId": "ba160380-9310-4d60-adb7-4deb092cea65"
      },
      "execution_count": 19,
      "outputs": [
        {
          "output_type": "display_data",
          "data": {
            "text/plain": [
              "<IPython.core.display.Javascript object>"
            ],
            "application/javascript": [
              "\n",
              "    async function download(id, filename, size) {\n",
              "      if (!google.colab.kernel.accessAllowed) {\n",
              "        return;\n",
              "      }\n",
              "      const div = document.createElement('div');\n",
              "      const label = document.createElement('label');\n",
              "      label.textContent = `Downloading \"${filename}\": `;\n",
              "      div.appendChild(label);\n",
              "      const progress = document.createElement('progress');\n",
              "      progress.max = size;\n",
              "      div.appendChild(progress);\n",
              "      document.body.appendChild(div);\n",
              "\n",
              "      const buffers = [];\n",
              "      let downloaded = 0;\n",
              "\n",
              "      const channel = await google.colab.kernel.comms.open(id);\n",
              "      // Send a message to notify the kernel that we're ready.\n",
              "      channel.send({})\n",
              "\n",
              "      for await (const message of channel.messages) {\n",
              "        // Send a message to notify the kernel that we're ready.\n",
              "        channel.send({})\n",
              "        if (message.buffers) {\n",
              "          for (const buffer of message.buffers) {\n",
              "            buffers.push(buffer);\n",
              "            downloaded += buffer.byteLength;\n",
              "            progress.value = downloaded;\n",
              "          }\n",
              "        }\n",
              "      }\n",
              "      const blob = new Blob(buffers, {type: 'application/binary'});\n",
              "      const a = document.createElement('a');\n",
              "      a.href = window.URL.createObjectURL(blob);\n",
              "      a.download = filename;\n",
              "      div.appendChild(a);\n",
              "      a.click();\n",
              "      div.remove();\n",
              "    }\n",
              "  "
            ]
          },
          "metadata": {}
        },
        {
          "output_type": "display_data",
          "data": {
            "text/plain": [
              "<IPython.core.display.Javascript object>"
            ],
            "application/javascript": [
              "download(\"download_d0fcd2a8-f1c7-4632-893e-1737cc1f339b\", \"flipkart_phones.csv\", 1300)"
            ]
          },
          "metadata": {}
        }
      ]
    }
  ]
}
